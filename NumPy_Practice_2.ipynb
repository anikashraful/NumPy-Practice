{
  "nbformat": 4,
  "nbformat_minor": 0,
  "metadata": {
    "colab": {
      "provenance": []
    },
    "kernelspec": {
      "name": "python3",
      "display_name": "Python 3"
    },
    "language_info": {
      "name": "python"
    }
  },
  "cells": [
    {
      "cell_type": "markdown",
      "source": [
        "Vectorization and Avoiding Loops"
      ],
      "metadata": {
        "id": "WZ8p1xj8_fMB"
      }
    },
    {
      "cell_type": "code",
      "source": [
        "import numpy as np\n",
        "import time\n",
        "\n",
        "arr = np.arange(10000000)\n",
        "\n",
        "start = time.time()\n",
        "result_loop = np.zeros(10000000)\n",
        "\n",
        "for i in range(len(arr)):\n",
        "    result_loop[i] = arr[i] ** 2\n",
        "\n",
        "loop_time = time.time() - start\n",
        "print(\"Loop Time: \", loop_time, 'seconds')\n",
        "\n",
        "start = time.time()\n",
        "result_vector = arr ** 2\n",
        "vector_time = time.time() - start\n",
        "print(\"Vector Time: \", vector_time, 'seconds')\n",
        "\n",
        "arr_small = np.array([1, 2, 3, 4, 5])\n",
        "result_where = np.where(arr_small > 2, arr_small ** 2, arr_small)\n",
        "print(\"np.where result:\",result_where)"
      ],
      "metadata": {
        "colab": {
          "base_uri": "https://localhost:8080/"
        },
        "id": "z0-hO1a0_llg",
        "outputId": "6634a229-3603-481b-fbac-29a74eeb69d7"
      },
      "execution_count": 3,
      "outputs": [
        {
          "output_type": "stream",
          "name": "stdout",
          "text": [
            "Loop Time:  6.6859190464019775 seconds\n",
            "Vector Time:  0.027274131774902344 seconds\n",
            "np.where result: [ 1  2  9 16 25]\n"
          ]
        }
      ]
    }
  ]
}