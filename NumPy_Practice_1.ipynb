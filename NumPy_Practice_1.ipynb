{
  "nbformat": 4,
  "nbformat_minor": 0,
  "metadata": {
    "colab": {
      "provenance": []
    },
    "kernelspec": {
      "name": "python3",
      "display_name": "Python 3"
    },
    "language_info": {
      "name": "python"
    }
  },
  "cells": [
    {
      "cell_type": "markdown",
      "source": [
        "numpy practice -1"
      ],
      "metadata": {
        "id": "lv4sHoZ3nnH3"
      }
    },
    {
      "cell_type": "code",
      "source": [
        "import numpy as np\n",
        "\n",
        "a = np.array([[1,2,3],[4,5,6]])\n",
        "b = np.array([10,20,30])\n",
        "\n",
        "result = a + b\n",
        "print(result)"
      ],
      "metadata": {
        "colab": {
          "base_uri": "https://localhost:8080/"
        },
        "id": "aQJUoXAonrg2",
        "outputId": "e4cea090-98ac-4492-c8ab-038e49acc7b7"
      },
      "execution_count": 1,
      "outputs": [
        {
          "output_type": "stream",
          "name": "stdout",
          "text": [
            "[[11 22 33]\n",
            " [14 25 36]]\n"
          ]
        }
      ]
    },
    {
      "cell_type": "markdown",
      "source": [
        "dimentional array"
      ],
      "metadata": {
        "id": "4xvl-6gGoUkH"
      }
    },
    {
      "cell_type": "code",
      "source": [
        "import numpy as np\n",
        "\n",
        "arr_1d = np.array([1,2,3])\n",
        "arr_2d = np.array([[1,2,3],[4,5,6]])\n",
        "arr_3d = np.array([[1,2,3],[4,5,6],[7,8,9]])\n",
        "\n",
        "print('1d Array:',arr_1d)\n",
        "print('2d Array:',arr_2d)\n",
        "print('3d Array:',arr_3d)\n",
        "\n",
        "print('Broadcasted sum:', arr_1d + arr_2d)\n",
        "print('Broadcasted sum:', arr_1d + arr_3d)"
      ],
      "metadata": {
        "colab": {
          "base_uri": "https://localhost:8080/"
        },
        "id": "FeR0VMaOoX-h",
        "outputId": "c9406a4c-ac28-4c12-c93a-beed31f0ce24"
      },
      "execution_count": 8,
      "outputs": [
        {
          "output_type": "stream",
          "name": "stdout",
          "text": [
            "1d Array: [1 2 3]\n",
            "2d Array: [[1 2 3]\n",
            " [4 5 6]]\n",
            "3d Array: [[1 2 3]\n",
            " [4 5 6]\n",
            " [7 8 9]]\n",
            "Broadcasted sum: [[2 4 6]\n",
            " [5 7 9]]\n",
            "Broadcasted sum: [[ 2  4  6]\n",
            " [ 5  7  9]\n",
            " [ 8 10 12]]\n"
          ]
        }
      ]
    },
    {
      "cell_type": "markdown",
      "source": [
        "broadcasting mismatch"
      ],
      "metadata": {
        "id": "ZJJfdEOAreZH"
      }
    },
    {
      "cell_type": "code",
      "source": [
        "import numpy as np\n",
        "\n",
        "arr1 = np.array([[1,2,3],[4,5,6]])\n",
        "arr2 = np.array([10,20])\n",
        "\n",
        "print(arr1 + arr2)  #it will show value error because of the shapes of both array"
      ],
      "metadata": {
        "id": "J9_bbiv1rfal"
      },
      "execution_count": 11,
      "outputs": []
    },
    {
      "cell_type": "markdown",
      "source": [
        "Advanced Array Manipulation"
      ],
      "metadata": {
        "id": "6M7DIU6-saco"
      }
    },
    {
      "cell_type": "code",
      "source": [
        "import numpy as np\n",
        "\n",
        "arr = np.arange(12)\n",
        "print(arr)\n",
        "\n",
        "reshaped = arr.reshape(3,-1)\n",
        "print(reshaped)"
      ],
      "metadata": {
        "colab": {
          "base_uri": "https://localhost:8080/"
        },
        "id": "THcpOPlZsbcE",
        "outputId": "a178a5eb-bd1c-4b9c-df25-fae7b256589c"
      },
      "execution_count": 14,
      "outputs": [
        {
          "output_type": "stream",
          "name": "stdout",
          "text": [
            "[ 0  1  2  3  4  5  6  7  8  9 10 11]\n",
            "[[ 0  1  2  3]\n",
            " [ 4  5  6  7]\n",
            " [ 8  9 10 11]]\n"
          ]
        }
      ]
    },
    {
      "cell_type": "markdown",
      "source": [
        "concatenation"
      ],
      "metadata": {
        "id": "-WF6Wbj3udGH"
      }
    },
    {
      "cell_type": "code",
      "source": [
        "import numpy as np\n",
        "\n",
        "a = np.array([[1,2],[3,4]])\n",
        "b = np.array([[5,6],[7,8]])\n",
        "\n",
        "\n",
        "print(np.vstack((a,b)))\n",
        "print(np.hstack((a,b)))"
      ],
      "metadata": {
        "colab": {
          "base_uri": "https://localhost:8080/"
        },
        "id": "akUbHsQ1uidE",
        "outputId": "ed81a512-0290-4aa8-e93e-4d5a7ad232b8"
      },
      "execution_count": 17,
      "outputs": [
        {
          "output_type": "stream",
          "name": "stdout",
          "text": [
            "[[1 2]\n",
            " [3 4]\n",
            " [5 6]\n",
            " [7 8]]\n",
            "[[1 2 5 6]\n",
            " [3 4 7 8]]\n"
          ]
        }
      ]
    },
    {
      "cell_type": "markdown",
      "source": [
        "splitting"
      ],
      "metadata": {
        "id": "QVVsVo4YvMkX"
      }
    },
    {
      "cell_type": "code",
      "source": [
        "import numpy as np\n",
        "\n",
        "arr = np.arange(9).reshape(3,3)\n",
        "print(arr)\n",
        "\n",
        "result = np.hsplit(arr,1)\n",
        "print(result)"
      ],
      "metadata": {
        "colab": {
          "base_uri": "https://localhost:8080/"
        },
        "id": "F7xWgtewvOUR",
        "outputId": "214707e9-a3e6-47da-f4dd-ff76ff916376"
      },
      "execution_count": 21,
      "outputs": [
        {
          "output_type": "stream",
          "name": "stdout",
          "text": [
            "[[0 1 2]\n",
            " [3 4 5]\n",
            " [6 7 8]]\n",
            "[array([[0, 1, 2],\n",
            "       [3, 4, 5],\n",
            "       [6, 7, 8]])]\n"
          ]
        }
      ]
    },
    {
      "cell_type": "markdown",
      "source": [
        "Working with Random Numbers"
      ],
      "metadata": {
        "id": "hGwvjab9wVyD"
      }
    },
    {
      "cell_type": "code",
      "source": [
        "import numpy as np\n",
        "\n",
        "arr = np.random.rand(3,3)\n",
        "print(arr)\n",
        "arr = np.random.randn(3,3)\n",
        "print(arr)\n",
        "arr = np.random.randint(1,10,size=(3,3))\n",
        "print(arr)\n",
        "\n",
        "np.random.seed(42)\n",
        "print(np.random.rand(2))\n",
        "\n",
        "arr1 = np.array([1,2,3,4,5])\n",
        "np.random.shuffle(arr1)\n",
        "print(arr1)"
      ],
      "metadata": {
        "colab": {
          "base_uri": "https://localhost:8080/"
        },
        "id": "K7BRwo4cwYFF",
        "outputId": "8d8dab8f-5ec5-40de-915e-f73b1afb5fb6"
      },
      "execution_count": 30,
      "outputs": [
        {
          "output_type": "stream",
          "name": "stdout",
          "text": [
            "[[0.15601864 0.15599452 0.05808361]\n",
            " [0.86617615 0.60111501 0.70807258]\n",
            " [0.02058449 0.96990985 0.83244264]]\n",
            "[[-0.58087813 -0.52516981 -0.57138017]\n",
            " [-0.92408284 -2.61254901  0.95036968]\n",
            " [ 0.81644508 -1.523876   -0.42804606]]\n",
            "[[3 7 4]\n",
            " [9 3 5]\n",
            " [3 7 5]]\n",
            "[0.37454012 0.95071431]\n",
            "[2 5 1 4 3]\n"
          ]
        }
      ]
    },
    {
      "cell_type": "markdown",
      "source": [
        "Practical Application – Basic Data Analysis"
      ],
      "metadata": {
        "id": "myRo0Kzixjku"
      }
    },
    {
      "cell_type": "code",
      "source": [
        "import numpy as np\n",
        "\n",
        "np.random.seed(42)\n",
        "scores = np.random.randint(50,100, size=(10,3))\n",
        "print(scores)\n",
        "\n",
        "print('Mean per students:', np.mean(scores, axis=1))\n",
        "print('Mean per subject:', np.mean(scores, axis=0))\n",
        "print('Max score per subject:', np.max(scores, axis=0))\n",
        "print('Min score per subject:', np.min(scores, axis=0))"
      ],
      "metadata": {
        "colab": {
          "base_uri": "https://localhost:8080/"
        },
        "id": "0Ma9NKvcxkes",
        "outputId": "5642f5bf-2739-45e7-98c6-5d3bfe5fc649"
      },
      "execution_count": 38,
      "outputs": [
        {
          "output_type": "stream",
          "name": "stdout",
          "text": [
            "[[88 78 64]\n",
            " [92 57 70]\n",
            " [88 68 72]\n",
            " [60 60 73]\n",
            " [85 89 73]\n",
            " [52 71 51]\n",
            " [73 93 79]\n",
            " [87 51 70]\n",
            " [82 61 71]\n",
            " [93 74 98]]\n",
            "Mean per students: [76.66666667 73.         76.         64.33333333 82.33333333 58.\n",
            " 81.66666667 69.33333333 71.33333333 88.33333333]\n",
            "Mean per subject: [80.  70.2 72.1]\n",
            "Max score per subject: [93 93 98]\n",
            "Min score per subject: [52 51 51]\n"
          ]
        }
      ]
    },
    {
      "cell_type": "markdown",
      "source": [
        "Masked Arrays"
      ],
      "metadata": {
        "id": "kRNdZti8zEez"
      }
    },
    {
      "cell_type": "code",
      "source": [
        "import numpy as np\n",
        "\n",
        "data = np.array([1, -999, 3, -999, 5])\n",
        "masked = np.ma.masked_values(data, -999)  # Mask -999 as invalid\n",
        "print(\"Masked Array:\", masked)\n",
        "print(\"Mean (ignoring masked):\", masked.mean())"
      ],
      "metadata": {
        "colab": {
          "base_uri": "https://localhost:8080/"
        },
        "id": "QPtfyEUEzG20",
        "outputId": "8b61a605-2f23-425e-c300-ea01688d53c0"
      },
      "execution_count": 39,
      "outputs": [
        {
          "output_type": "stream",
          "name": "stdout",
          "text": [
            "Masked Array: [1 -- 3 -- 5]\n",
            "Mean (ignoring masked): 3.0\n"
          ]
        }
      ]
    }
  ]
}