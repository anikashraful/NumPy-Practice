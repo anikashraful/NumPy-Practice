{
  "nbformat": 4,
  "nbformat_minor": 0,
  "metadata": {
    "colab": {
      "provenance": []
    },
    "kernelspec": {
      "name": "python3",
      "display_name": "Python 3"
    },
    "language_info": {
      "name": "python"
    }
  },
  "cells": [
    {
      "cell_type": "code",
      "execution_count": null,
      "metadata": {
        "id": "PaOaAhFNDj07"
      },
      "outputs": [],
      "source": []
    },
    {
      "cell_type": "markdown",
      "source": [
        "first coding pracrice in collab"
      ],
      "metadata": {
        "id": "mSxR5u0LEKx4"
      }
    },
    {
      "cell_type": "code",
      "source": [
        "import numpy as np\n",
        "print(np.__version__)"
      ],
      "metadata": {
        "colab": {
          "base_uri": "https://localhost:8080/"
        },
        "id": "v0E4G1taER2z",
        "outputId": "d60caec9-9f11-4599-fd75-7d9a111576dd"
      },
      "execution_count": null,
      "outputs": [
        {
          "output_type": "stream",
          "name": "stdout",
          "text": [
            "2.0.2\n"
          ]
        }
      ]
    },
    {
      "cell_type": "markdown",
      "source": [
        "basic array practice"
      ],
      "metadata": {
        "id": "7s01gcHOEzyG"
      }
    },
    {
      "cell_type": "code",
      "source": [
        "import numpy as np\n",
        "arr = np.array([1,2,3,4,5])\n",
        "print('Array:', arr)\n",
        "print(arr.shape)\n",
        "print(np.mean(arr))\n",
        "print(np.max(arr))\n",
        "print(np.min(arr))"
      ],
      "metadata": {
        "colab": {
          "base_uri": "https://localhost:8080/"
        },
        "id": "kNmQ_Fg7E2cg",
        "outputId": "474ea088-75a9-4926-8838-24f4e3fe68a2"
      },
      "execution_count": null,
      "outputs": [
        {
          "output_type": "stream",
          "name": "stdout",
          "text": [
            "Array: [1 2 3 4 5]\n",
            "(5,)\n",
            "3.0\n",
            "5\n",
            "1\n"
          ]
        }
      ]
    },
    {
      "cell_type": "markdown",
      "source": [
        "array creation"
      ],
      "metadata": {
        "id": "7cKVbwltGOrx"
      }
    },
    {
      "cell_type": "code",
      "source": [
        "import numpy as np\n",
        "\n",
        "zeroes = np.zeros((3,3))\n",
        "print('Zeroes:',zeroes)\n",
        "\n",
        "arr = np.arange(10).reshape(2,5)\n",
        "print('Array: ', arr)\n",
        "\n",
        "linspace = np.linspace(0 , 100 , 5)\n",
        "print('linspace: ', linspace)"
      ],
      "metadata": {
        "colab": {
          "base_uri": "https://localhost:8080/"
        },
        "id": "cu4FVl64GUK2",
        "outputId": "bb736640-6e4e-41ee-8dd0-ff1f07922353"
      },
      "execution_count": 12,
      "outputs": [
        {
          "output_type": "stream",
          "name": "stdout",
          "text": [
            "Zeroes: [[0. 0. 0.]\n",
            " [0. 0. 0.]\n",
            " [0. 0. 0.]]\n",
            "Array:  [[0 1 2 3 4]\n",
            " [5 6 7 8 9]]\n",
            "linspace:  [  0.  25.  50.  75. 100.]\n"
          ]
        }
      ]
    },
    {
      "cell_type": "markdown",
      "source": [
        "indexing and slicing"
      ],
      "metadata": {
        "id": "deivtyljbi3E"
      }
    },
    {
      "cell_type": "code",
      "source": [
        "import numpy as np\n",
        "\n",
        "arr = np.array([[1,2,3],[4,5,6],[7,8,9]])\n",
        "print('Array: ', arr)\n",
        "\n",
        "print('First row: ',arr[0, :])\n",
        "\n",
        "print('Third row: ',arr[2, :])\n",
        "\n",
        "print('First column: ', arr[: ,0])\n",
        "\n",
        "print('Second column: ', arr[:,1])\n",
        "\n",
        "print('Elements >5:', arr[arr>5])"
      ],
      "metadata": {
        "colab": {
          "base_uri": "https://localhost:8080/"
        },
        "id": "DAXPFE1CbnNV",
        "outputId": "129bdfe5-be3e-4d92-b00f-e854ee24974d"
      },
      "execution_count": 20,
      "outputs": [
        {
          "output_type": "stream",
          "name": "stdout",
          "text": [
            "Array:  [[1 2 3]\n",
            " [4 5 6]\n",
            " [7 8 9]]\n",
            "First row:  [1 2 3]\n",
            "Third row:  [7 8 9]\n",
            "First column:  [1 4 7]\n",
            "Second column:  [2 5 8]\n",
            "Elements >5: [6 7 8 9]\n"
          ]
        }
      ]
    },
    {
      "cell_type": "markdown",
      "source": [
        "array operations"
      ],
      "metadata": {
        "id": "hKKRuNDJdSyR"
      }
    },
    {
      "cell_type": "code",
      "source": [
        "import numpy as np\n",
        "\n",
        "arr1 = np.array([1,2,3])\n",
        "arr2 = np.array([4,5,6])\n",
        "\n",
        "print('Addition:', arr1+arr2)\n",
        "print('Subtraction:', arr1-arr2)\n",
        "print('Multiplication:', arr1*arr2)\n",
        "print('Division:', arr1/arr2)\n",
        "\n",
        "print('Square:', arr1**2)\n",
        "print('Square root:', np.sqrt(arr1))\n",
        "\n",
        "print('Sum:', np.sum(arr1))\n",
        "print('Mean:',np.mean(arr1))"
      ],
      "metadata": {
        "colab": {
          "base_uri": "https://localhost:8080/"
        },
        "id": "FCv1fb84dU8Z",
        "outputId": "d851b014-726e-473e-8f78-465cf24f378b"
      },
      "execution_count": 23,
      "outputs": [
        {
          "output_type": "stream",
          "name": "stdout",
          "text": [
            "Addition: [5 7 9]\n",
            "Subtraction: [-3 -3 -3]\n",
            "Multiplication: [ 4 10 18]\n",
            "Division: [0.25 0.4  0.5 ]\n",
            "Square: [1 4 9]\n",
            "Square root: [1.         1.41421356 1.73205081]\n",
            "Sum: 6\n",
            "Mean: 2.0\n"
          ]
        }
      ]
    },
    {
      "cell_type": "markdown",
      "source": [
        "linear algebra"
      ],
      "metadata": {
        "id": "ns-eZGHuemxv"
      }
    },
    {
      "cell_type": "code",
      "source": [
        "import numpy as np\n",
        "\n",
        "arr1 = np.array([[1,2],[3,4]])\n",
        "arr2 = np.array([[5,6],[7,8]])\n",
        "\n",
        "print('Dot product:', np.dot(arr1,arr2))\n",
        "\n",
        "print('Determinant:',np.linalg.det(arr1))\n",
        "\n",
        "print('Transpose:', np.transpose(arr2))"
      ],
      "metadata": {
        "colab": {
          "base_uri": "https://localhost:8080/"
        },
        "id": "xlrT2KQweuu9",
        "outputId": "294578b4-83a4-439b-9f4b-f8a501fc2bae"
      },
      "execution_count": 27,
      "outputs": [
        {
          "output_type": "stream",
          "name": "stdout",
          "text": [
            "Dot product: [[19 22]\n",
            " [43 50]]\n",
            "Determinant: -2.0000000000000004\n",
            "Transpose: [[5 7]\n",
            " [6 8]]\n"
          ]
        }
      ]
    }
  ]
}